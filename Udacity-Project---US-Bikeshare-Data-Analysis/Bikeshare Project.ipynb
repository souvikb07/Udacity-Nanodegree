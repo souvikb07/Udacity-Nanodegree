{
 "cells": [
  {
   "cell_type": "markdown",
   "metadata": {},
   "source": [
    "# 2016 US Bike Share Activity Snapshot\n",
    "\n",
    "## Table of Contents\n",
    "- [Introduction](#intro)\n",
    "- [Posing Questions](#pose_questions)\n",
    "- [The Data Set](#dataset)\n",
    "- [The Files ](#files)\n",
    "- [Exploratory Data Analysis](#eda)"
   ]
  },
  {
   "cell_type": "markdown",
   "metadata": {},
   "source": [
    "<a id='intro'></a>\n",
    "## Introduction\n",
    "Over the past decade, bicycle-sharing systems have been growing in number and popularity in cities across the world. Bicycle-sharing systems allow users to rent bicycles on a very short-term basis for a price. This allows people to borrow a bike from point A and return it at point B, though they can also return it to the same location if they'd like to just go for a ride. Regardless, each bike can serve several users per day.\n",
    "\n",
    "Thanks to the rise in information technologies, it is easy for a user of the system to access a dock within the system to unlock or return bicycles. These technologies also provide a wealth of data that can be used to explore how these bike-sharing systems are used.\n",
    "\n",
    "In this project, you will use data provided by [Motivate](https://www.motivateco.com/), a bike share system provider for many major cities in the United States, to uncover bike share usage patterns. You will compare the system usage between three large cities: Chicago, New York City, and Washington, DC."
   ]
  },
  {
   "cell_type": "markdown",
   "metadata": {},
   "source": [
    "<a id='pose_questions'></a>\n",
    "## Posing Questions\n",
    "\n",
    "### Popular times of travel (i.e., occurs most often in the start time)\n",
    "-    most common month\n",
    "-    most common day of week\n",
    "-    most common hour of day\n",
    "\n",
    "### Popular stations and trip\n",
    "\n",
    "-    most common start station\n",
    "-    most common end station\n",
    "-    most common trip from start to end (i.e., most frequent combination of start station and end station)\n",
    "\n",
    "### Trip duration\n",
    "\n",
    "-    total travel time\n",
    "-    average travel time\n",
    "\n",
    "### User info\n",
    "\n",
    "-    counts of each user type\n",
    "-    counts of each gender (only available for NYC and Chicago)\n",
    "-    earliest, most recent, most common year of birth (only available for NYC and Chicago)"
   ]
  },
  {
   "cell_type": "markdown",
   "metadata": {},
   "source": [
    "<a id='dataset'></a>\n",
    "## The Data Set\n",
    "\n",
    "### Randomly selected data for the first six months of 2017 are provided for all three cities. All three of the data files contain the same core six (6) columns:\n",
    "\n",
    "-   Start Time (e.g., 2017-01-01 00:07:57)\n",
    "-   End Time (e.g., 2017-01-01 00:20:53)\n",
    "-   Trip Duration (in seconds - e.g., 776)\n",
    "-   Start Station (e.g., Broadway & Barry Ave)\n",
    "-   End Station (e.g., Sedgwick St & North Ave)\n",
    "-   User Type (Subscriber or Customer)\n",
    "\n",
    "### The Chicago and New York City files also have the following two columns:\n",
    "\n",
    "-    Gender\n",
    "-    Birth Year\n"
   ]
  },
  {
   "cell_type": "markdown",
   "metadata": {},
   "source": [
    "<a id='files'></a>\n",
    "## The Files\n",
    "\n",
    "- chicago.csv\n",
    "- new_york_city.csv\n",
    "- washington.csv"
   ]
  },
  {
   "cell_type": "code",
   "execution_count": null,
   "metadata": {},
   "outputs": [],
   "source": [
    "# Import the libraries\n",
    "import time\n",
    "import pandas as pd\n",
    "import numpy as np"
   ]
  },
  {
   "cell_type": "markdown",
   "metadata": {},
   "source": [
    "### Function to Ask user to specify city, month and day to analyze"
   ]
  },
  {
   "cell_type": "code",
   "execution_count": 46,
   "metadata": {},
   "outputs": [],
   "source": [
    "CITY_DATA = { 'chicago': 'chicago.csv',\n",
    "              'new york city': 'new_york_city.csv',\n",
    "              'washington': 'washington.csv' }\n",
    "def get_filters():\n",
    "    \"\"\"\n",
    "    Asks user to specify a city, month, and day to analyze.\n",
    "\n",
    "    Returns:\n",
    "        (str) city - name of the city to analyze\n",
    "        (str) month - name of the month to filter by, or \"all\" to apply no month filter\n",
    "        (str) day - name of the day of week to filter by, or \"all\" to apply no day filter\n",
    "    \"\"\"\n",
    "    # get user input for city (chicago, new york city, washington). HINT: Use a while loop to handle invalid inputs\n",
    "    while 1==1:\n",
    "        city = input('\\nHello! Let\\'s explore some US bikeshare data!\\n'\n",
    "                     'Would you like to see data for Chicago, New York, or'\n",
    "                     ' Washington?\\n').lower()\n",
    "        if city in ['chicago', 'new york city', 'washington']:\n",
    "            break\n",
    "        else:\n",
    "            print('Sorry, I do not understand your input. Please input either '\n",
    "                  'Chicago, New York City, or Washington.')\n",
    "\n",
    "    # get user input for month (all, january, february, ... , june)\n",
    "    while 1==1:\n",
    "        month = input('\\nWhich month? January, February, March, April,'\n",
    "                            ' May, or June?\\n').lower()\n",
    "        if month in ['january', 'february', 'march', 'april', 'may', 'june', 'all' ]:\n",
    "            break\n",
    "        else:\n",
    "            print('Sorry, I do not understand your input. Please type in a '\n",
    "                  'month between January and June')\n",
    "        \n",
    "    # get user input for day of week (all, monday, tuesday, ... sunday)\n",
    "    while 1==1:\n",
    "        day = input('\\nWhich day? Monday, Tuesday, Wednesday, Thursday,'\n",
    "                            ' Thursday, Friday, Saturday, or Sunday?\\n').lower()\n",
    "        if day in ['monday', 'tuesday', 'wednesday', 'thursday', 'friday', 'saturday', 'sunday', 'all']:\n",
    "            break\n",
    "        else:\n",
    "            print('Sorry, I do not understand your input. Please type in a '\n",
    "                  'month between January and June')\n",
    "\n",
    "    print('-'*40)\n",
    "    return city, month, day"
   ]
  },
  {
   "cell_type": "markdown",
   "metadata": {},
   "source": [
    "### Load the data base"
   ]
  },
  {
   "cell_type": "code",
   "execution_count": 38,
   "metadata": {},
   "outputs": [],
   "source": [
    "def load_data(city, month, day):\n",
    "    \"\"\"\n",
    "    Loads data for the specified city and filters by month and day if applicable.\n",
    "\n",
    "    Args:\n",
    "        (str) city - name of the city to analyze\n",
    "        (str) month - name of the month to filter by, or \"all\" to apply no month filter\n",
    "        (str) day - name of the day of week to filter by, or \"all\" to apply no day filter\n",
    "    Returns:\n",
    "        df - Pandas DataFrame containing city data filtered by month and day\n",
    "    \"\"\"\n",
    "    # load data file into a dataframe\n",
    "    df = pd.read_csv(CITY_DATA[city])\n",
    "\n",
    "    # convert the Start Time column to datetime\n",
    "    df['Start Time'] = pd.to_datetime(df['Start Time'])\n",
    "\n",
    "    # extract month and day of week from Start Time to create new columns\n",
    "    df['month'] = df['Start Time'].dt.month\n",
    "    df['day_of_week'] = df['Start Time'].dt.weekday_name\n",
    "    \n",
    "    # Creat a journey column for the journey between station \n",
    "    df['Journey'] = df['Start Station'].str.cat(df['End Station'], sep=' to ')\n",
    "    \n",
    "    # extract hour from the Start Time column to create an hour column\n",
    "    df['hour'] = df['Start Time'].dt.hour\n",
    "\n",
    "    # filter by month if applicable\n",
    "    if month != 'all':\n",
    "        # use the index of the months list to get the corresponding int\n",
    "        months = ['january', 'february', 'march', 'april', 'may', 'june']\n",
    "        month = months.index(month) + 1\n",
    "    \n",
    "        # filter by month to create the new dataframe\n",
    "        df = df[df['month'] == month]\n",
    "\n",
    "    # filter by day of week if applicable\n",
    "    if day != 'all':\n",
    "        # filter by day of week to create the new dataframe\n",
    "        df = df[df['day_of_week'] == day.title()] \n",
    "\n",
    "    return df"
   ]
  },
  {
   "cell_type": "markdown",
   "metadata": {},
   "source": [
    "### Display the Most frequent times of travel"
   ]
  },
  {
   "cell_type": "code",
   "execution_count": 39,
   "metadata": {},
   "outputs": [],
   "source": [
    "def time_stats(df):\n",
    "    \"\"\"Displays statistics on the most frequent times of travel.\"\"\"\n",
    "\n",
    "    print('\\nCalculating The Most Frequent Times of Travel...\\n')\n",
    "    start_time = time.time()\n",
    "\n",
    "    # display the most common month\n",
    "    popular_month = df['month'].mode()[0]\n",
    "    print(\"Most common Month:\", popular_month)\n",
    "\n",
    "    # display the most common day of week\n",
    "    popular_day = df['day_of_week'].mode()[0]\n",
    "    print(\"Most common Day of the Week:\", popular_day)\n",
    "    \n",
    "    # display the most common start hour\n",
    "    popular_hour = df['hour'].mode()[0]\n",
    "    print(\"Most common Hour:\", popular_hour)\n",
    "\n",
    "    print(\"\\nThis took %s seconds.\" % (time.time() - start_time))\n",
    "    print('-'*40)"
   ]
  },
  {
   "cell_type": "markdown",
   "metadata": {},
   "source": [
    "### Most Popular stations and trip"
   ]
  },
  {
   "cell_type": "code",
   "execution_count": 40,
   "metadata": {},
   "outputs": [],
   "source": [
    "def station_stats(df):\n",
    "    \"\"\"Displays statistics on the most popular stations and trip.\"\"\"\n",
    "\n",
    "    print('\\nCalculating The Most Popular Stations and Trip...\\n')\n",
    "    start_time = time.time()\n",
    "\n",
    "    # display most commonly used start station\n",
    "    pop_start = df['Start Station'].mode().to_string(index = False)\n",
    "    print('The most popular start station is {}.'.format(pop_start))\n",
    "\n",
    "    # display most commonly used end station\n",
    "    pop_end = df['End Station'].mode().to_string(index = False)\n",
    "    print('The most popular end station is {}.'.format(pop_end))\n",
    "    \n",
    "    # display most frequent combination of start station and end station trip\n",
    "    pop_journey = df['Journey'].mode().to_string(index = False)\n",
    "\n",
    "    print(\"\\nThis took %s seconds.\" % (time.time() - start_time))\n",
    "    print('-'*40)"
   ]
  },
  {
   "cell_type": "markdown",
   "metadata": {},
   "source": [
    "### Total and Average Trip Duration"
   ]
  },
  {
   "cell_type": "code",
   "execution_count": 41,
   "metadata": {},
   "outputs": [],
   "source": [
    "def trip_duration_stats(df):\n",
    "    \"\"\"Displays statistics on the total and average trip duration.\"\"\"\n",
    "\n",
    "    print('\\nCalculating Trip Duration...\\n')\n",
    "    start_time = time.time()\n",
    "\n",
    "    # display total travel time\n",
    "    total_travel_time = df['Trip Duration'].sum()\n",
    "    \n",
    "    minute, second = divmod(total_travel_time, 60)\n",
    "    hour, minute = divmod(minute, 60)\n",
    "    print('The total trip duration is {} hours, {} minutes and {}'\n",
    "          ' seconds.'.format(hour, minute, second))\n",
    "\n",
    "    # display mean travel time\n",
    "    mean_travel_time = round(df['Trip Duration'].mean())\n",
    "    m, s = divmod(mean_travel_time, 60)\n",
    "    if m > 60:\n",
    "        h, m = divmod(m, 60)\n",
    "        print('The average trip duration is {} hours, {} minutes and {}'\n",
    "              ' seconds.'.format(h, m, s))\n",
    "    else:\n",
    "        print('The average trip duration is {} minutes and {} seconds.'.format(m, s))\n",
    "        \n",
    "\n",
    "    print(\"\\nThis took %s seconds.\" % (time.time() - start_time))\n",
    "    print('-'*40)"
   ]
  },
  {
   "cell_type": "markdown",
   "metadata": {},
   "source": [
    "###  Bikeshare Users"
   ]
  },
  {
   "cell_type": "code",
   "execution_count": 42,
   "metadata": {},
   "outputs": [],
   "source": [
    "def user_stats(df):\n",
    "    \"\"\"Displays statistics on bikeshare users.\"\"\"\n",
    "\n",
    "    print('\\nCalculating User Stats...\\n')\n",
    "    start_time = time.time()\n",
    "\n",
    "    # Display counts of user types\n",
    "    user_types = df['User Type'].value_counts()\n",
    "    print(user_types)\n",
    "    # Display counts of gender\n",
    "    gender_types = df['Gender'].value_counts()\n",
    "    print(gender_types)\n",
    "    # Display earliest, most recent, and most common year of birth\n",
    "    earliest = int(df['Birth Year'].min())\n",
    "    latest = int(df['Birth Year'].max())\n",
    "    mode = int(df['Birth Year'].mode())\n",
    "    print('The oldest users are born in {}.\\nThe youngest users are born in {}.'\n",
    "          '\\nThe most popular birth year is {}.'.format(earliest, latest, mode))\n",
    "\n",
    "\n",
    "    print(\"\\nThis took %s seconds.\" % (time.time() - start_time))\n",
    "    print('-'*40)"
   ]
  },
  {
   "cell_type": "markdown",
   "metadata": {},
   "source": [
    "<a id='eda'></a>\n",
    "## Exploratory Data Analysis"
   ]
  },
  {
   "cell_type": "code",
   "execution_count": null,
   "metadata": {},
   "outputs": [],
   "source": [
    "def main():\n",
    "    while True:\n",
    "        city, month, day = get_filters()\n",
    "        df = load_data(city, month, day)\n",
    "\n",
    "        time_stats(df)\n",
    "        station_stats(df)\n",
    "        trip_duration_stats(df)\n",
    "        user_stats(df)\n",
    "\n",
    "        restart = input('\\nWould you like to restart? Enter yes or no.\\n')\n",
    "        if restart.lower() != 'yes':\n",
    "            break"
   ]
  },
  {
   "cell_type": "code",
   "execution_count": null,
   "metadata": {},
   "outputs": [],
   "source": [
    "#To explore the data just call the function\n",
    "main()"
   ]
  }
 ],
 "metadata": {
  "kernelspec": {
   "display_name": "Python 3",
   "language": "python",
   "name": "python3"
  },
  "language_info": {
   "codemirror_mode": {
    "name": "ipython",
    "version": 3
   },
   "file_extension": ".py",
   "mimetype": "text/x-python",
   "name": "python",
   "nbconvert_exporter": "python",
   "pygments_lexer": "ipython3",
   "version": "3.6.4"
  }
 },
 "nbformat": 4,
 "nbformat_minor": 2
}
